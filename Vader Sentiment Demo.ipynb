{
 "cells": [
  {
   "cell_type": "code",
   "execution_count": 0,
   "metadata": {
    "application/vnd.databricks.v1+cell": {
     "cellMetadata": {
      "byteLimit": 2048000,
      "rowLimit": 10000
     },
     "inputWidgets": {},
     "nuid": "d2822f7b-c0ff-48ba-a4d4-9ca7ca511745",
     "showTitle": false,
     "title": ""
    }
   },
   "outputs": [
    {
     "output_type": "display_data",
     "data": {
      "application/vnd.databricks.v1+bamboolib_hint": "{\"pd.DataFrames\": [], \"version\": \"0.0.1\"}",
      "text/plain": []
     },
     "metadata": {},
     "output_type": "display_data"
    }
   ],
   "source": [
    "import random\n",
    "import pandas as pd\n",
    "import numpy as np\n",
    "import seaborn as sns\n",
    "from vaderSentiment.vaderSentiment import SentimentIntensityAnalyzer"
   ]
  },
  {
   "cell_type": "code",
   "execution_count": 0,
   "metadata": {
    "application/vnd.databricks.v1+cell": {
     "cellMetadata": {
      "byteLimit": 2048000,
      "rowLimit": 10000
     },
     "inputWidgets": {},
     "nuid": "c721b77a-fd60-4209-8d9d-c97cc3375602",
     "showTitle": false,
     "title": ""
    }
   },
   "outputs": [],
   "source": [
    "df = pd.read_csv('/dbfs/FileStore/review_details.csv')"
   ]
  },
  {
   "cell_type": "code",
   "execution_count": 0,
   "metadata": {
    "application/vnd.databricks.v1+cell": {
     "cellMetadata": {
      "byteLimit": 2048000,
      "rowLimit": 10000
     },
     "inputWidgets": {},
     "nuid": "f9a07a01-d3b8-4ccf-8673-c6d34ab69a3e",
     "showTitle": false,
     "title": ""
    }
   },
   "outputs": [],
   "source": [
    "df = df[['review_text', 'review_rating', 'review_title']]"
   ]
  },
  {
   "cell_type": "code",
   "execution_count": 0,
   "metadata": {
    "application/vnd.databricks.v1+cell": {
     "cellMetadata": {
      "byteLimit": 2048000,
      "rowLimit": 10000
     },
     "inputWidgets": {},
     "nuid": "478232c3-f25d-4149-9c79-a9cfd96a7e55",
     "showTitle": false,
     "title": ""
    }
   },
   "outputs": [
    {
     "output_type": "execute_result",
     "data": {
      "text/html": [
       "<div>\n",
       "<style scoped>\n",
       "    .dataframe tbody tr th:only-of-type {\n",
       "        vertical-align: middle;\n",
       "    }\n",
       "\n",
       "    .dataframe tbody tr th {\n",
       "        vertical-align: top;\n",
       "    }\n",
       "\n",
       "    .dataframe thead th {\n",
       "        text-align: right;\n",
       "    }\n",
       "</style>\n",
       "<table border=\"1\" class=\"dataframe\">\n",
       "  <thead>\n",
       "    <tr style=\"text-align: right;\">\n",
       "      <th></th>\n",
       "      <th>review_text</th>\n",
       "      <th>review_rating</th>\n",
       "      <th>review_title</th>\n",
       "    </tr>\n",
       "  </thead>\n",
       "  <tbody>\n",
       "    <tr>\n",
       "      <th>0</th>\n",
       "      <td>As you get older, you know what you like and w...</td>\n",
       "      <td>5</td>\n",
       "      <td>Dove Men’s + Deodorant</td>\n",
       "    </tr>\n",
       "    <tr>\n",
       "      <th>1</th>\n",
       "      <td>Three gigantic marmite jars that will last pro...</td>\n",
       "      <td>5</td>\n",
       "      <td>Great for a marmite lover!</td>\n",
       "    </tr>\n",
       "    <tr>\n",
       "      <th>2</th>\n",
       "      <td>Excellent</td>\n",
       "      <td>4</td>\n",
       "      <td>Vitamin B12.</td>\n",
       "    </tr>\n",
       "    <tr>\n",
       "      <th>3</th>\n",
       "      <td>A great flavour top - up for slow cooking.</td>\n",
       "      <td>5</td>\n",
       "      <td>A Very Handy Flavour Top - Up to Keep In The C...</td>\n",
       "    </tr>\n",
       "    <tr>\n",
       "      <th>4</th>\n",
       "      <td>Does what is says it does</td>\n",
       "      <td>5</td>\n",
       "      <td>Very handy</td>\n",
       "    </tr>\n",
       "    <tr>\n",
       "      <th>...</th>\n",
       "      <td>...</td>\n",
       "      <td>...</td>\n",
       "      <td>...</td>\n",
       "    </tr>\n",
       "    <tr>\n",
       "      <th>2496</th>\n",
       "      <td>These are amazing, just like the original Corn...</td>\n",
       "      <td>5</td>\n",
       "      <td>perfect</td>\n",
       "    </tr>\n",
       "    <tr>\n",
       "      <th>2497</th>\n",
       "      <td>Our whole family loves bovril and we use it da...</td>\n",
       "      <td>5</td>\n",
       "      <td>delicious</td>\n",
       "    </tr>\n",
       "    <tr>\n",
       "      <th>2498</th>\n",
       "      <td>Contents of this bottle is lovely. HOWEVER try...</td>\n",
       "      <td>1</td>\n",
       "      <td>This review is for the squeezy bottle</td>\n",
       "    </tr>\n",
       "    <tr>\n",
       "      <th>2499</th>\n",
       "      <td>These taste great and you cannot Cant tell the...</td>\n",
       "      <td>4</td>\n",
       "      <td>very nice</td>\n",
       "    </tr>\n",
       "    <tr>\n",
       "      <th>2500</th>\n",
       "      <td>Really pleased to have vegan Cornettos at last...</td>\n",
       "      <td>5</td>\n",
       "      <td>Brilliant</td>\n",
       "    </tr>\n",
       "  </tbody>\n",
       "</table>\n",
       "<p>2501 rows × 3 columns</p>\n",
       "</div>"
      ],
      "text/plain": [
       "                                            review_text  ...                                       review_title\n",
       "0     As you get older, you know what you like and w...  ...                             Dove Men’s + Deodorant\n",
       "1     Three gigantic marmite jars that will last pro...  ...                         Great for a marmite lover!\n",
       "2                                             Excellent  ...                                       Vitamin B12.\n",
       "3            A great flavour top - up for slow cooking.  ...  A Very Handy Flavour Top - Up to Keep In The C...\n",
       "4                             Does what is says it does  ...                                         Very handy\n",
       "...                                                 ...  ...                                                ...\n",
       "2496  These are amazing, just like the original Corn...  ...                                            perfect\n",
       "2497  Our whole family loves bovril and we use it da...  ...                                          delicious\n",
       "2498  Contents of this bottle is lovely. HOWEVER try...  ...              This review is for the squeezy bottle\n",
       "2499  These taste great and you cannot Cant tell the...  ...                                          very nice\n",
       "2500  Really pleased to have vegan Cornettos at last...  ...                                          Brilliant\n",
       "\n",
       "[2501 rows x 3 columns]"
      ]
     },
     "execution_count": 28,
     "metadata": {},
     "output_type": "execute_result"
    }
   ],
   "source": [
    "df"
   ]
  },
  {
   "cell_type": "code",
   "execution_count": 0,
   "metadata": {
    "application/vnd.databricks.v1+cell": {
     "cellMetadata": {
      "byteLimit": 2048000,
      "rowLimit": 10000
     },
     "inputWidgets": {},
     "nuid": "6c0c8dac-4178-4796-8630-ac6a2e990aee",
     "showTitle": false,
     "title": ""
    }
   },
   "outputs": [],
   "source": [
    "sentiments = []"
   ]
  },
  {
   "cell_type": "code",
   "execution_count": 0,
   "metadata": {
    "application/vnd.databricks.v1+cell": {
     "cellMetadata": {
      "byteLimit": 2048000,
      "rowLimit": 10000
     },
     "inputWidgets": {},
     "nuid": "465f36e9-bcbd-4a88-85cb-86e563ea2ed2",
     "showTitle": false,
     "title": ""
    }
   },
   "outputs": [],
   "source": [
    "analyzer = SentimentIntensityAnalyzer()"
   ]
  },
  {
   "cell_type": "code",
   "execution_count": 0,
   "metadata": {
    "application/vnd.databricks.v1+cell": {
     "cellMetadata": {
      "byteLimit": 2048000,
      "rowLimit": 10000
     },
     "inputWidgets": {},
     "nuid": "daa773ee-0a56-474a-a036-a65286e578fe",
     "showTitle": false,
     "title": ""
    }
   },
   "outputs": [],
   "source": [
    "for index, row in df.iterrows():\n",
    "  review_text = row['review_text']\n",
    "  sentiment_scores = analyzer.polarity_scores(review_text)\n",
    "  if sentiment_scores[\"compound\"] >= 0.05:\n",
    "        sentiment = \"positive\"\n",
    "  elif sentiment_scores[\"compound\"] <= -0.05:\n",
    "        sentiment = \"negative\"\n",
    "  else:\n",
    "        sentiment = \"neutral\"\n",
    "  sentiments.append(sentiment)"
   ]
  },
  {
   "cell_type": "code",
   "execution_count": 0,
   "metadata": {
    "application/vnd.databricks.v1+cell": {
     "cellMetadata": {
      "byteLimit": 2048000,
      "rowLimit": 10000
     },
     "inputWidgets": {},
     "nuid": "935c8355-2286-4422-ac47-0d9e3b3b7cdd",
     "showTitle": false,
     "title": ""
    }
   },
   "outputs": [
    {
     "output_type": "stream",
     "name": "stderr",
     "output_type": "stream",
     "text": [
      "<command-2499025817998232>:1: SettingWithCopyWarning: \nA value is trying to be set on a copy of a slice from a DataFrame.\nTry using .loc[row_indexer,col_indexer] = value instead\n\nSee the caveats in the documentation: https://pandas.pydata.org/pandas-docs/stable/user_guide/indexing.html#returning-a-view-versus-a-copy\n  df[\"Predicted_Sentiment\"] = sentiments\n"
     ]
    }
   ],
   "source": [
    "df[\"Predicted_Sentiment\"] = sentiments"
   ]
  },
  {
   "cell_type": "code",
   "execution_count": 0,
   "metadata": {
    "application/vnd.databricks.v1+cell": {
     "cellMetadata": {
      "byteLimit": 2048000,
      "rowLimit": 10000
     },
     "inputWidgets": {},
     "nuid": "61ae5841-01f7-4ba8-b23a-ec2dbd826ab4",
     "showTitle": false,
     "title": ""
    }
   },
   "outputs": [
    {
     "output_type": "execute_result",
     "data": {
      "text/html": [
       "<div>\n",
       "<style scoped>\n",
       "    .dataframe tbody tr th:only-of-type {\n",
       "        vertical-align: middle;\n",
       "    }\n",
       "\n",
       "    .dataframe tbody tr th {\n",
       "        vertical-align: top;\n",
       "    }\n",
       "\n",
       "    .dataframe thead th {\n",
       "        text-align: right;\n",
       "    }\n",
       "</style>\n",
       "<table border=\"1\" class=\"dataframe\">\n",
       "  <thead>\n",
       "    <tr style=\"text-align: right;\">\n",
       "      <th></th>\n",
       "      <th>review_text</th>\n",
       "      <th>review_rating</th>\n",
       "      <th>review_title</th>\n",
       "      <th>Predicted_Sentiment</th>\n",
       "    </tr>\n",
       "  </thead>\n",
       "  <tbody>\n",
       "    <tr>\n",
       "      <th>0</th>\n",
       "      <td>As you get older, you know what you like and w...</td>\n",
       "      <td>5</td>\n",
       "      <td>Dove Men’s + Deodorant</td>\n",
       "      <td>positive</td>\n",
       "    </tr>\n",
       "    <tr>\n",
       "      <th>1</th>\n",
       "      <td>Three gigantic marmite jars that will last pro...</td>\n",
       "      <td>5</td>\n",
       "      <td>Great for a marmite lover!</td>\n",
       "      <td>positive</td>\n",
       "    </tr>\n",
       "    <tr>\n",
       "      <th>2</th>\n",
       "      <td>Excellent</td>\n",
       "      <td>4</td>\n",
       "      <td>Vitamin B12.</td>\n",
       "      <td>positive</td>\n",
       "    </tr>\n",
       "    <tr>\n",
       "      <th>3</th>\n",
       "      <td>A great flavour top - up for slow cooking.</td>\n",
       "      <td>5</td>\n",
       "      <td>A Very Handy Flavour Top - Up to Keep In The C...</td>\n",
       "      <td>positive</td>\n",
       "    </tr>\n",
       "    <tr>\n",
       "      <th>4</th>\n",
       "      <td>Does what is says it does</td>\n",
       "      <td>5</td>\n",
       "      <td>Very handy</td>\n",
       "      <td>neutral</td>\n",
       "    </tr>\n",
       "    <tr>\n",
       "      <th>...</th>\n",
       "      <td>...</td>\n",
       "      <td>...</td>\n",
       "      <td>...</td>\n",
       "      <td>...</td>\n",
       "    </tr>\n",
       "    <tr>\n",
       "      <th>2496</th>\n",
       "      <td>These are amazing, just like the original Corn...</td>\n",
       "      <td>5</td>\n",
       "      <td>perfect</td>\n",
       "      <td>positive</td>\n",
       "    </tr>\n",
       "    <tr>\n",
       "      <th>2497</th>\n",
       "      <td>Our whole family loves bovril and we use it da...</td>\n",
       "      <td>5</td>\n",
       "      <td>delicious</td>\n",
       "      <td>positive</td>\n",
       "    </tr>\n",
       "    <tr>\n",
       "      <th>2498</th>\n",
       "      <td>Contents of this bottle is lovely. HOWEVER try...</td>\n",
       "      <td>1</td>\n",
       "      <td>This review is for the squeezy bottle</td>\n",
       "      <td>positive</td>\n",
       "    </tr>\n",
       "    <tr>\n",
       "      <th>2499</th>\n",
       "      <td>These taste great and you cannot Cant tell the...</td>\n",
       "      <td>4</td>\n",
       "      <td>very nice</td>\n",
       "      <td>positive</td>\n",
       "    </tr>\n",
       "    <tr>\n",
       "      <th>2500</th>\n",
       "      <td>Really pleased to have vegan Cornettos at last...</td>\n",
       "      <td>5</td>\n",
       "      <td>Brilliant</td>\n",
       "      <td>positive</td>\n",
       "    </tr>\n",
       "  </tbody>\n",
       "</table>\n",
       "<p>2501 rows × 4 columns</p>\n",
       "</div>"
      ],
      "text/plain": [
       "                                            review_text  ...  Predicted_Sentiment\n",
       "0     As you get older, you know what you like and w...  ...             positive\n",
       "1     Three gigantic marmite jars that will last pro...  ...             positive\n",
       "2                                             Excellent  ...             positive\n",
       "3            A great flavour top - up for slow cooking.  ...             positive\n",
       "4                             Does what is says it does  ...              neutral\n",
       "...                                                 ...  ...                  ...\n",
       "2496  These are amazing, just like the original Corn...  ...             positive\n",
       "2497  Our whole family loves bovril and we use it da...  ...             positive\n",
       "2498  Contents of this bottle is lovely. HOWEVER try...  ...             positive\n",
       "2499  These taste great and you cannot Cant tell the...  ...             positive\n",
       "2500  Really pleased to have vegan Cornettos at last...  ...             positive\n",
       "\n",
       "[2501 rows x 4 columns]"
      ]
     },
     "execution_count": 53,
     "metadata": {},
     "output_type": "execute_result"
    }
   ],
   "source": [
    "df"
   ]
  }
 ],
 "metadata": {
  "application/vnd.databricks.v1+notebook": {
   "dashboards": [],
   "language": "python",
   "notebookMetadata": {
    "pythonIndentUnit": 2
   },
   "notebookName": "Vader Sentiment Demo",
   "widgets": {}
  }
 },
 "nbformat": 4,
 "nbformat_minor": 0
}
